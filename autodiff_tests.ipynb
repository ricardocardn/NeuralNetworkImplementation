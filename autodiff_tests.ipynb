{
 "cells": [
  {
   "cell_type": "code",
   "execution_count": 1,
   "metadata": {},
   "outputs": [],
   "source": [
    "from NNScratchLib.models.MultiClassModels import NeuralNetwork\n",
    "from NNScratchLib.models.AutodiffLayers import SequentialLayer\n",
    "\n",
    "from NNScratchLib.functions import activation_functions\n",
    "from NNScratchLib.functions import measure_functions\n",
    "from NNScratchLib.functions import optimizers\n",
    "from NNScratchLib.functions import generative_optimizers\n",
    "\n",
    "from sklearn.model_selection import train_test_split\n",
    "from sklearn.utils import shuffle\n",
    "from sklearn.preprocessing import OneHotEncoder\n",
    "from sklearn.metrics import confusion_matrix\n",
    "\n",
    "import tensorflow as tf\n",
    "from tensorflow.keras.datasets import mnist\n",
    "\n",
    "import matplotlib.pyplot as plt\n",
    "import seaborn as sns\n",
    "import pandas as pd\n",
    "import numpy as np"
   ]
  },
  {
   "cell_type": "code",
   "execution_count": 2,
   "metadata": {},
   "outputs": [],
   "source": [
    "nn = NeuralNetwork()\n",
    "nn.set(SequentialLayer(4, 5, activation=activation_functions.sigmoid, \n",
    "                            activation_derivate=activation_functions.sigmoid_derivate))\n",
    "nn.set(SequentialLayer(5, 3, activation=activation_functions.softmax,\n",
    "                            activation_derivate=activation_functions.softmax_derivate))"
   ]
  },
  {
   "cell_type": "code",
   "execution_count": 3,
   "metadata": {},
   "outputs": [],
   "source": [
    "iris = pd.read_csv('NNScratchLib/datasets/iris')\n",
    "iris = shuffle(iris)\n",
    "\n",
    "X = iris.iloc[:, 0:4].values\n",
    "y = iris.iloc[:, 4].values\n",
    "\n",
    "enc = OneHotEncoder()\n",
    "y = enc.fit_transform(y.reshape(-1,1)).toarray()"
   ]
  },
  {
   "cell_type": "code",
   "execution_count": 4,
   "metadata": {},
   "outputs": [],
   "source": [
    "X_train, X_test, y_train, y_test = train_test_split(X, y, test_size=0.2)"
   ]
  },
  {
   "cell_type": "code",
   "execution_count": 5,
   "metadata": {},
   "outputs": [],
   "source": [
    "X_train = X_train.reshape(-1, 4, 1)\n",
    "X_test = X_test.reshape(-1, 4, 1)\n",
    "\n",
    "y_train = y_train.reshape(-1, 3, 1)\n",
    "y_test = y_test.reshape(-1, 3, 1)"
   ]
  },
  {
   "cell_type": "code",
   "execution_count": 6,
   "metadata": {},
   "outputs": [],
   "source": [
    "nn.backward(X_train, y_train, learning_rate=1e-5, epochs=500)"
   ]
  },
  {
   "cell_type": "code",
   "execution_count": 7,
   "metadata": {},
   "outputs": [
    {
     "name": "stdout",
     "output_type": "stream",
     "text": [
      "Real:  1 Predicted:  1\n",
      "Real:  2 Predicted:  2\n",
      "Real:  2 Predicted:  2\n",
      "Real:  1 Predicted:  1\n",
      "Real:  1 Predicted:  1\n",
      "Real:  2 Predicted:  2\n",
      "Real:  0 Predicted:  0\n",
      "Real:  2 Predicted:  2\n",
      "Real:  0 Predicted:  0\n",
      "Real:  2 Predicted:  2\n",
      "Real:  1 Predicted:  1\n",
      "Real:  0 Predicted:  0\n",
      "Real:  0 Predicted:  0\n",
      "Real:  2 Predicted:  2\n",
      "Real:  1 Predicted:  1\n",
      "Real:  2 Predicted:  1\n",
      "Real:  2 Predicted:  2\n",
      "Real:  0 Predicted:  0\n",
      "Real:  0 Predicted:  0\n",
      "Real:  0 Predicted:  0\n",
      "Real:  2 Predicted:  2\n",
      "Real:  2 Predicted:  2\n",
      "Real:  2 Predicted:  2\n",
      "Real:  1 Predicted:  1\n",
      "Real:  0 Predicted:  0\n",
      "Real:  2 Predicted:  2\n",
      "Real:  0 Predicted:  0\n",
      "Real:  2 Predicted:  2\n",
      "Real:  1 Predicted:  1\n",
      "Real:  0 Predicted:  0\n",
      "Accuracy:  0.9666666666666667\n"
     ]
    }
   ],
   "source": [
    "acc = 0\n",
    "for x, y in zip(X_test, y_test):\n",
    "    pred = nn.feedfoward(x)\n",
    "    print('Real: ', np.argmax(y), 'Predicted: ', np.argmax(pred))\n",
    "    if np.argmax(y) == np.argmax(pred):\n",
    "        acc += 1\n",
    "\n",
    "print('Accuracy: ', acc/len(X_test))"
   ]
  }
 ],
 "metadata": {
  "kernelspec": {
   "display_name": "aa1",
   "language": "python",
   "name": "python3"
  },
  "language_info": {
   "codemirror_mode": {
    "name": "ipython",
    "version": 3
   },
   "file_extension": ".py",
   "mimetype": "text/x-python",
   "name": "python",
   "nbconvert_exporter": "python",
   "pygments_lexer": "ipython3",
   "version": "3.9.16"
  }
 },
 "nbformat": 4,
 "nbformat_minor": 2
}
