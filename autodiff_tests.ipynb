{
 "cells": [
  {
   "cell_type": "code",
   "execution_count": 1,
   "metadata": {},
   "outputs": [],
   "source": [
    "from NNScratchLib.models.autodiff.AutodiffModels import NeuralNetwork\n",
    "from NNScratchLib.models.autodiff.AutodiffLayers import SequentialLayer, Convolutional, Reshape\n",
    "\n",
    "from NNScratchLib.functions import activation_functions\n",
    "from NNScratchLib.functions import measure_functions\n",
    "\n",
    "from sklearn.model_selection import train_test_split\n",
    "from sklearn.utils import shuffle\n",
    "from sklearn.preprocessing import OneHotEncoder\n",
    "from sklearn.metrics import confusion_matrix\n",
    "\n",
    "import matplotlib.pyplot as plt\n",
    "import numpy as np\n",
    "import pandas as pd"
   ]
  },
  {
   "cell_type": "markdown",
   "metadata": {},
   "source": [
    "# Red neuronal para la clasificación del dataset Iris"
   ]
  },
  {
   "cell_type": "code",
   "execution_count": 2,
   "metadata": {},
   "outputs": [],
   "source": [
    "nn = NeuralNetwork()\n",
    "nn.set(SequentialLayer(4, 20, activation=activation_functions.sigmoid, \n",
    "                            activation_derivate=activation_functions.sigmoid_derivate))\n",
    "nn.set(SequentialLayer(20, 3, activation=activation_functions.softmax,\n",
    "                            activation_derivate=activation_functions.softmax_derivate))"
   ]
  },
  {
   "cell_type": "code",
   "execution_count": 3,
   "metadata": {},
   "outputs": [],
   "source": [
    "iris = pd.read_csv('NNScratchLib/datasets/iris')\n",
    "iris = shuffle(iris)\n",
    "\n",
    "X = iris.iloc[:, 0:4].values\n",
    "y = iris.iloc[:, 4].values\n",
    "\n",
    "enc = OneHotEncoder()\n",
    "y = enc.fit_transform(y.reshape(-1,1)).toarray()"
   ]
  },
  {
   "cell_type": "code",
   "execution_count": 4,
   "metadata": {},
   "outputs": [],
   "source": [
    "X_train, X_test, y_train, y_test = train_test_split(X, y, test_size=0.2)"
   ]
  },
  {
   "cell_type": "code",
   "execution_count": 5,
   "metadata": {},
   "outputs": [],
   "source": [
    "X_train = X_train.reshape(-1, 4, 1)\n",
    "X_test = X_test.reshape(-1, 4, 1)\n",
    "\n",
    "y_train = y_train.reshape(-1, 3, 1)\n",
    "y_test = y_test.reshape(-1, 3, 1)"
   ]
  },
  {
   "cell_type": "code",
   "execution_count": 6,
   "metadata": {},
   "outputs": [
    {
     "name": "stdout",
     "output_type": "stream",
     "text": [
      "Epoch:    0, Accuracy: 0.200\n",
      "Epoch:   10, Accuracy: 0.233\n",
      "Epoch:   20, Accuracy: 0.933\n",
      "Epoch:   30, Accuracy: 0.967\n",
      "Epoch:   40, Accuracy: 0.967\n",
      "Epoch:   50, Accuracy: 0.967\n",
      "Epoch:   60, Accuracy: 0.967\n",
      "Epoch:   70, Accuracy: 0.967\n",
      "Epoch:   80, Accuracy: 0.967\n",
      "Epoch:   90, Accuracy: 0.967\n",
      "Epoch:  100, Accuracy: 0.967\n",
      "Epoch:  110, Accuracy: 0.967\n",
      "Epoch:  120, Accuracy: 0.933\n",
      "Epoch:  130, Accuracy: 0.900\n",
      "Epoch:  140, Accuracy: 0.900\n",
      "Epoch:  150, Accuracy: 0.900\n",
      "Epoch:  160, Accuracy: 0.900\n",
      "Epoch:  170, Accuracy: 0.900\n",
      "Epoch:  180, Accuracy: 0.900\n",
      "Epoch:  190, Accuracy: 0.900\n",
      "Epoch:  200, Accuracy: 0.900\n",
      "Epoch:  210, Accuracy: 0.900\n",
      "Epoch:  220, Accuracy: 0.900\n",
      "Epoch:  230, Accuracy: 0.900\n",
      "Epoch:  240, Accuracy: 0.900\n",
      "Epoch:  250, Accuracy: 0.900\n",
      "Epoch:  260, Accuracy: 0.900\n",
      "Epoch:  270, Accuracy: 0.900\n",
      "Epoch:  280, Accuracy: 0.900\n",
      "Epoch:  290, Accuracy: 0.900\n"
     ]
    }
   ],
   "source": [
    "nn.backward(X_test, y_test, acc_measure=measure_functions.accuracy ,learning_rate=1e-4, epochs=300)"
   ]
  },
  {
   "cell_type": "code",
   "execution_count": 7,
   "metadata": {},
   "outputs": [
    {
     "name": "stdout",
     "output_type": "stream",
     "text": [
      "Real:  2 Predicted:  2\n",
      "Real:  0 Predicted:  0\n",
      "Real:  2 Predicted:  2\n",
      "Real:  2 Predicted:  1\n",
      "Real:  1 Predicted:  1\n",
      "Real:  2 Predicted:  2\n",
      "Real:  1 Predicted:  1\n",
      "Real:  1 Predicted:  1\n",
      "Real:  2 Predicted:  2\n",
      "Real:  0 Predicted:  0\n",
      "Real:  1 Predicted:  1\n",
      "Real:  1 Predicted:  1\n",
      "Real:  2 Predicted:  1\n",
      "Real:  0 Predicted:  0\n",
      "Real:  0 Predicted:  0\n",
      "Real:  0 Predicted:  0\n",
      "Real:  2 Predicted:  2\n",
      "Real:  1 Predicted:  1\n",
      "Real:  2 Predicted:  2\n",
      "Real:  1 Predicted:  1\n",
      "Real:  0 Predicted:  0\n",
      "Real:  2 Predicted:  2\n",
      "Real:  0 Predicted:  0\n",
      "Real:  1 Predicted:  1\n",
      "Real:  0 Predicted:  0\n",
      "Real:  1 Predicted:  1\n",
      "Real:  0 Predicted:  0\n",
      "Real:  0 Predicted:  0\n",
      "Real:  2 Predicted:  1\n",
      "Real:  1 Predicted:  1\n",
      "Accuracy:  0.9\n"
     ]
    }
   ],
   "source": [
    "acc = 0\n",
    "for x, y in zip(X_test, y_test):\n",
    "    pred = nn.feedfoward(x)\n",
    "    print('Real: ', np.argmax(y), 'Predicted: ', np.argmax(pred))\n",
    "    if np.argmax(y) == np.argmax(pred):\n",
    "        acc += 1\n",
    "\n",
    "print('Accuracy: ', acc/len(X_test))"
   ]
  }
 ],
 "metadata": {
  "kernelspec": {
   "display_name": "aa1",
   "language": "python",
   "name": "python3"
  },
  "language_info": {
   "codemirror_mode": {
    "name": "ipython",
    "version": 3
   },
   "file_extension": ".py",
   "mimetype": "text/x-python",
   "name": "python",
   "nbconvert_exporter": "python",
   "pygments_lexer": "ipython3",
   "version": "3.9.16"
  }
 },
 "nbformat": 4,
 "nbformat_minor": 2
}
