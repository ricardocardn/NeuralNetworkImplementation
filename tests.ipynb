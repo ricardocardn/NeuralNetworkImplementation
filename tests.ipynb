{
 "cells": [
  {
   "cell_type": "code",
   "execution_count": 34,
   "metadata": {},
   "outputs": [],
   "source": [
    "from NNScratchLib.layers import NNLayer\n",
    "from NNScratchLib.models import NNMultiClass\n",
    "from NNScratchLib.functions import activation_functions as af\n",
    "\n",
    "import numpy as np"
   ]
  },
  {
   "cell_type": "markdown",
   "metadata": {},
   "source": [
    "## Red Neuronal Para Clasificar el Dataset de Iris"
   ]
  },
  {
   "cell_type": "markdown",
   "metadata": {},
   "source": [
    "### Definición de la red"
   ]
  },
  {
   "cell_type": "code",
   "execution_count": 35,
   "metadata": {},
   "outputs": [],
   "source": [
    "nn = NNMultiClass.NeuralNetwork()\n",
    "nn.set(NNLayer.Layer(4, 10, activation=af.sigmoid, activation_derivate=af.sigmoid_derivate))\n",
    "nn.set(NNLayer.Layer(10, 3, activation=af.softmax, activation_derivate=None))"
   ]
  },
  {
   "cell_type": "markdown",
   "metadata": {},
   "source": [
    "### Dataset de Iris"
   ]
  },
  {
   "cell_type": "code",
   "execution_count": 36,
   "metadata": {},
   "outputs": [],
   "source": [
    "from sklearn.datasets import load_iris\n",
    "iris = load_iris()\n",
    "\n",
    "X = iris.data\n",
    "y = iris.target\n",
    "\n",
    "from sklearn.preprocessing import OneHotEncoder\n",
    "enc = OneHotEncoder()\n",
    "y = enc.fit_transform(y.reshape(-1,1)).toarray()"
   ]
  },
  {
   "cell_type": "code",
   "execution_count": 37,
   "metadata": {},
   "outputs": [],
   "source": [
    "from sklearn.model_selection import train_test_split\n",
    "X_train, X_test, y_train, y_test = train_test_split(X, y, test_size=0.2)"
   ]
  },
  {
   "cell_type": "markdown",
   "metadata": {},
   "source": [
    "### Entrenamiento de la red"
   ]
  },
  {
   "cell_type": "code",
   "execution_count": 38,
   "metadata": {},
   "outputs": [],
   "source": [
    "def accuracy(Y, Y_pred):\n",
    "    accuracy = 0\n",
    "    for y, Y_pred in zip(Y, Y_pred):\n",
    "        if np.argmax(y) == np.argmax(Y_pred):\n",
    "            accuracy += 1\n",
    "\n",
    "    return accuracy / len(Y)"
   ]
  },
  {
   "cell_type": "code",
   "execution_count": 39,
   "metadata": {},
   "outputs": [
    {
     "name": "stdout",
     "output_type": "stream",
     "text": [
      "epoch   0 - accuracy 0.26667\n",
      "epoch  10 - accuracy 0.26667\n",
      "epoch  20 - accuracy 0.26667\n",
      "epoch  30 - accuracy 0.26667\n",
      "epoch  40 - accuracy 0.26667\n",
      "epoch  50 - accuracy 0.26667\n",
      "epoch  60 - accuracy 0.40000\n",
      "epoch  70 - accuracy 0.50000\n",
      "epoch  80 - accuracy 0.50000\n",
      "epoch  90 - accuracy 0.56667\n",
      "epoch 100 - accuracy 0.63333\n",
      "epoch 110 - accuracy 0.63333\n",
      "epoch 120 - accuracy 0.66667\n",
      "epoch 130 - accuracy 0.70000\n",
      "epoch 140 - accuracy 0.76667\n",
      "epoch 150 - accuracy 0.76667\n",
      "epoch 160 - accuracy 0.76667\n",
      "epoch 170 - accuracy 0.80000\n",
      "epoch 180 - accuracy 0.80000\n",
      "epoch 190 - accuracy 0.80000\n",
      "epoch 200 - accuracy 0.80000\n",
      "epoch 210 - accuracy 0.83333\n",
      "epoch 220 - accuracy 0.83333\n",
      "epoch 230 - accuracy 0.83333\n",
      "epoch 240 - accuracy 0.83333\n",
      "epoch 250 - accuracy 0.83333\n",
      "epoch 260 - accuracy 0.83333\n",
      "epoch 270 - accuracy 0.90000\n",
      "epoch 280 - accuracy 0.90000\n",
      "epoch 290 - accuracy 0.90000\n"
     ]
    }
   ],
   "source": [
    "# train\n",
    "for i in range(300):\n",
    "    for j in range(len(X)):\n",
    "        nn.backpropagation(X[j], y[j], lr=0.0001)\n",
    "\n",
    "    if i%10 == 0:\n",
    "        Y_pred = [nn.feedfoward(x) for x in X_test]\n",
    "        acc = accuracy(y_test, Y_pred)\n",
    "        print(f'epoch {i:3} - accuracy {acc:.5f}')\n"
   ]
  },
  {
   "cell_type": "markdown",
   "metadata": {},
   "source": [
    "# Red Neuronal Para Clasificar el Dataset de MNIST"
   ]
  },
  {
   "cell_type": "code",
   "execution_count": 40,
   "metadata": {},
   "outputs": [],
   "source": [
    "import tensorflow as tf\n",
    "from tensorflow.keras.datasets import mnist\n",
    "from matplotlib import pyplot as plt"
   ]
  },
  {
   "cell_type": "markdown",
   "metadata": {},
   "source": [
    "### Definimos la red"
   ]
  },
  {
   "cell_type": "code",
   "execution_count": 41,
   "metadata": {},
   "outputs": [],
   "source": [
    "nn = NNMultiClass.NeuralNetwork()\n",
    "nn.set(NNLayer.Layer(784, 10, activation=af.sigmoid, activation_derivate=af.sigmoid_derivate))\n",
    "nn.set(NNLayer.Layer(10, 10, activation=af.softmax, activation_derivate=None))"
   ]
  },
  {
   "cell_type": "markdown",
   "metadata": {},
   "source": [
    "### Dataset de MNIST"
   ]
  },
  {
   "cell_type": "code",
   "execution_count": 42,
   "metadata": {},
   "outputs": [],
   "source": [
    "(x_train, y_train), (x_test, y_test) = mnist.load_data()"
   ]
  },
  {
   "cell_type": "code",
   "execution_count": 43,
   "metadata": {},
   "outputs": [],
   "source": [
    "x_train = x_train.reshape((-1, 28*28))\n",
    "x_train = x_train.astype('float64')/255\n",
    "\n",
    "x_test = x_test.reshape((-1, 28*28))\n",
    "x_test = x_test.astype('float64')/255\n",
    "\n",
    "y_train = tf.keras.utils.to_categorical(y_train, 10)\n",
    "y_test = tf.keras.utils.to_categorical(y_test, 10)"
   ]
  },
  {
   "cell_type": "markdown",
   "metadata": {},
   "source": [
    "### Entrenamiento de la red"
   ]
  },
  {
   "cell_type": "code",
   "execution_count": 44,
   "metadata": {},
   "outputs": [
    {
     "name": "stdout",
     "output_type": "stream",
     "text": [
      "accuracy before training:  0.0904\n",
      "epoch   0 - accuracy 0.81960\n",
      "epoch   1 - accuracy 0.84580\n",
      "epoch   2 - accuracy 0.82670\n",
      "epoch   3 - accuracy 0.90030\n",
      "epoch   4 - accuracy 0.87870\n",
      "epoch   5 - accuracy 0.87360\n",
      "epoch   6 - accuracy 0.87680\n",
      "epoch   7 - accuracy 0.88920\n",
      "epoch   8 - accuracy 0.84590\n",
      "epoch   9 - accuracy 0.89890\n"
     ]
    }
   ],
   "source": [
    "print(\"accuracy before training: \", accuracy(y_test, [nn.feedfoward(x) for x in x_test]))\n",
    "\n",
    "for i in range(10):\n",
    "    for j in range(len(x_train)):\n",
    "        nn.backpropagation(x_train[j], y_train[j], lr=0.01)\n",
    "\n",
    "    Y_pred = [nn.feedfoward(x) for x in x_test]\n",
    "    acc = accuracy(y_test, Y_pred)\n",
    "    print(f'epoch {i:3} - accuracy {acc:.5f}')\n"
   ]
  },
  {
   "cell_type": "code",
   "execution_count": 45,
   "metadata": {},
   "outputs": [
    {
     "data": {
      "text/plain": [
       "array([[-1.84592773, -0.30279043,  0.14415084, ..., -0.19101488,\n",
       "        -0.61538592,  0.17460146],\n",
       "       [-0.52851419, -1.97270165, -0.11246485, ...,  1.26311316,\n",
       "         1.11364483,  0.49344388],\n",
       "       [ 1.01994732, -0.92885313,  0.95434211, ...,  0.78746092,\n",
       "        -0.77576682,  1.29880606],\n",
       "       ...,\n",
       "       [ 0.61589319, -0.67817547,  0.36041618, ...,  0.51679743,\n",
       "         0.4763185 ,  0.22836432],\n",
       "       [-0.33225798,  0.1942475 , -0.02611053, ...,  0.08859946,\n",
       "        -2.42695952,  0.24306251],\n",
       "       [ 0.35577358, -0.8675759 , -0.59941115, ..., -0.13521073,\n",
       "         1.70729292,  1.90463187]])"
      ]
     },
     "execution_count": 45,
     "metadata": {},
     "output_type": "execute_result"
    }
   ],
   "source": [
    "nn.layers[0].weights"
   ]
  },
  {
   "cell_type": "code",
   "execution_count": 47,
   "metadata": {},
   "outputs": [
    {
     "data": {
      "image/png": "[encoded data removed]",
      "text/plain": [
       "<Figure size 1000x1000 with 2 Axes>"
      ]
     },
     "metadata": {},
     "output_type": "display_data"
    }
   ],
   "source": [
    "# confusion matrix\n",
    "from sklearn.metrics import confusion_matrix\n",
    "import seaborn as sns\n",
    "\n",
    "Y_pred = [np.argmax(nn.feedfoward(x)) for x in x_test]\n",
    "Y_test = [np.argmax(y) for y in y_test]\n",
    "\n",
    "cm = confusion_matrix(Y_test, Y_pred)\n",
    "plt.figure(figsize=(10, 10))\n",
    "sns.heatmap(cm, annot=True, fmt='d', cmap='Blues')\n",
    "plt.xlabel('Predicted')\n",
    "plt.ylabel('True')\n",
    "plt.show()"
   ]
  },
  {
   "cell_type": "code",
   "execution_count": null,
   "metadata": {},
   "outputs": [],
   "source": []
  }
 ],
 "metadata": {
  "kernelspec": {
   "display_name": "aa1",
   "language": "python",
   "name": "python3"
  },
  "language_info": {
   "codemirror_mode": {
    "name": "ipython",
    "version": 3
   },
   "file_extension": ".py",
   "mimetype": "text/x-python",
   "name": "python",
   "nbconvert_exporter": "python",
   "pygments_lexer": "ipython3",
   "version": "3.9.16"
  }
 },
 "nbformat": 4,
 "nbformat_minor": 2
}
