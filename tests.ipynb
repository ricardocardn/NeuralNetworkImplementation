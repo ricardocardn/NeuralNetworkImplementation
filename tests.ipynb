{
 "cells": [
  {
   "cell_type": "code",
   "execution_count": 1,
   "metadata": {},
   "outputs": [],
   "source": [
    "from NNScratchLib.models.MultiClassModels import NeuralNetwork\n",
    "from NNScratchLib.models.Layers import SequentialLayer\n",
    "\n",
    "from NNScratchLib.functions import activation_functions\n",
    "from NNScratchLib.functions import measure_functions\n",
    "from NNScratchLib.functions import optimizers\n",
    "\n",
    "from sklearn.model_selection import train_test_split\n",
    "from sklearn.utils import shuffle\n",
    "from sklearn.preprocessing import OneHotEncoder\n",
    "from sklearn.metrics import confusion_matrix\n",
    "\n",
    "import tensorflow as tf\n",
    "from tensorflow.keras.datasets import mnist\n",
    "\n",
    "import matplotlib.pyplot as plt\n",
    "import seaborn as sns\n",
    "import pandas as pd\n",
    "import numpy as np"
   ]
  },
  {
   "cell_type": "markdown",
   "metadata": {},
   "source": [
    "## Red Neuronal Para Clasificar el Dataset de Iris"
   ]
  },
  {
   "cell_type": "markdown",
   "metadata": {},
   "source": [
    "Definiremos una red neuronal de 4 entradas, con una capa oculta de 4 neuronas, y una capa de salida de 3 neuronas. La función de activación para la capa oculta será la sigmoide y para la de salida la función softmax. Como el backpropagation ya tiene en cuenta la función de activación en la última capa, no es necesario definirla su derivada."
   ]
  },
  {
   "cell_type": "markdown",
   "metadata": {},
   "source": [
    "### Definición de la red"
   ]
  },
  {
   "cell_type": "code",
   "execution_count": 2,
   "metadata": {},
   "outputs": [],
   "source": [
    "nn = NeuralNetwork()\n",
    "nn.set(SequentialLayer(4, 5, activation=activation_functions.sigmoid, \n",
    "                            activation_derivate=activation_functions.sigmoid_derivate))\n",
    "nn.set(SequentialLayer(5, 3, activation=activation_functions.softmax,\n",
    "                            activation_derivate=activation_functions.softmax_derivate))"
   ]
  },
  {
   "cell_type": "markdown",
   "metadata": {},
   "source": [
    "### Dataset de Iris"
   ]
  },
  {
   "cell_type": "markdown",
   "metadata": {},
   "source": [
    "Cargamos el dataset IRIS, y dividimos el conjunto de datos en en train y test."
   ]
  },
  {
   "cell_type": "code",
   "execution_count": 3,
   "metadata": {},
   "outputs": [],
   "source": [
    "iris = pd.read_csv('NNScratchLib/datasets/iris')\n",
    "iris = shuffle(iris)\n",
    "\n",
    "X = iris.iloc[:, 0:4].values\n",
    "y = iris.iloc[:, 4].values\n",
    "\n",
    "enc = OneHotEncoder()\n",
    "y = enc.fit_transform(y.reshape(-1,1)).toarray()"
   ]
  },
  {
   "cell_type": "code",
   "execution_count": 4,
   "metadata": {},
   "outputs": [],
   "source": [
    "X_train, X_test, y_train, y_test = train_test_split(X, y, test_size=0.2)"
   ]
  },
  {
   "cell_type": "markdown",
   "metadata": {},
   "source": [
    "### Entrenamiento de la red"
   ]
  },
  {
   "cell_type": "markdown",
   "metadata": {},
   "source": [
    "A continuación, entrenamos el modelo con el conjunto de entrenamiento, y mostramos la evolución del error en cada iteración. Utilizaremos el optimizador del descenso del gradiente clásico, con una tasa de aprendizaje de 0.01"
   ]
  },
  {
   "cell_type": "code",
   "execution_count": 5,
   "metadata": {},
   "outputs": [
    {
     "name": "stdout",
     "output_type": "stream",
     "text": [
      "accuracy before training:  0.4\n",
      "epoch   0 - Loss 1.05985, Accuracy 0.08333\n",
      "epoch  10 - Loss 0.62562, Accuracy 1.00000\n",
      "epoch  20 - Loss 0.31099, Accuracy 1.00000\n",
      "epoch  30 - Loss 0.15666, Accuracy 1.00000\n",
      "epoch  40 - Loss 0.09857, Accuracy 1.00000\n",
      "epoch  50 - Loss 0.07024, Accuracy 1.00000\n",
      "epoch  60 - Loss 0.05364, Accuracy 1.00000\n",
      "epoch  70 - Loss 0.04300, Accuracy 1.00000\n",
      "epoch  80 - Loss 0.03573, Accuracy 1.00000\n",
      "epoch  90 - Loss 0.03050, Accuracy 1.00000\n",
      "epoch 100 - Loss 0.02658, Accuracy 1.00000\n",
      "epoch 110 - Loss 0.02356, Accuracy 1.00000\n",
      "epoch 120 - Loss 0.02116, Accuracy 1.00000\n",
      "epoch 130 - Loss 0.01922, Accuracy 1.00000\n",
      "epoch 140 - Loss 0.01763, Accuracy 1.00000\n",
      "epoch 150 - Loss 0.01630, Accuracy 1.00000\n",
      "epoch 160 - Loss 0.01518, Accuracy 1.00000\n",
      "epoch 170 - Loss 0.01422, Accuracy 1.00000\n",
      "epoch 180 - Loss 0.01340, Accuracy 1.00000\n",
      "epoch 190 - Loss 0.01268, Accuracy 1.00000\n",
      "epoch 200 - Loss 0.01206, Accuracy 1.00000\n",
      "epoch 210 - Loss 0.01150, Accuracy 1.00000\n",
      "epoch 220 - Loss 0.01101, Accuracy 1.00000\n",
      "epoch 230 - Loss 0.01058, Accuracy 1.00000\n",
      "epoch 240 - Loss 0.01018, Accuracy 1.00000\n",
      "epoch 250 - Loss 0.00982, Accuracy 1.00000\n",
      "epoch 260 - Loss 0.00949, Accuracy 1.00000\n",
      "epoch 270 - Loss 0.00919, Accuracy 1.00000\n",
      "epoch 280 - Loss 0.00891, Accuracy 1.00000\n",
      "epoch 290 - Loss 0.00865, Accuracy 1.00000\n"
     ]
    }
   ],
   "source": [
    "print(\"accuracy before training: \", measure_functions.accuracy(y_test, [nn.feedfoward(x) for x in X_test]))\n",
    "(acc, loss) = optimizers.gradient_descent(nn, X_train, y_train, measure_functions.accuracy, epochs=300, learning_rate=0.01)"
   ]
  },
  {
   "cell_type": "code",
   "execution_count": 6,
   "metadata": {},
   "outputs": [
    {
     "name": "stdout",
     "output_type": "stream",
     "text": [
      "Accuracy after training (on test):  0.9333333333333333\n"
     ]
    }
   ],
   "source": [
    "Y_pred = [nn.feedfoward(x) for x in X_test]\n",
    "print(\"Accuracy after training (on test): \", measure_functions.accuracy(y_test, Y_pred))"
   ]
  },
  {
   "cell_type": "markdown",
   "metadata": {},
   "source": [
    "Si representamos la matriz de confusión del modelo"
   ]
  },
  {
   "cell_type": "code",
   "execution_count": 7,
   "metadata": {},
   "outputs": [
    {
     "data": {
      "image/png": "[encoded data removed]",
      "text/plain": [
       "<Figure size 500x500 with 2 Axes>"
      ]
     },
     "metadata": {},
     "output_type": "display_data"
    }
   ],
   "source": [
    "Y_pred = [np.argmax(nn.feedfoward(x)) for x in X_test]\n",
    "Y_test = [np.argmax(y) for y in y_test]\n",
    "\n",
    "cm = confusion_matrix(Y_test, Y_pred)\n",
    "plt.figure(figsize=(5, 5))\n",
    "sns.heatmap(cm, annot=True, fmt='d', cmap='Blues')\n",
    "plt.xlabel('Predicted')\n",
    "plt.ylabel('True')\n",
    "plt.title('Confusion Matrix')\n",
    "plt.show()"
   ]
  },
  {
   "cell_type": "markdown",
   "metadata": {},
   "source": [
    "A continuación, repetiremos el proceso para clasificar el mismo dataset, esta vez con un modelo de mayor complejidad, con 3 capas ocultas y una de salida, con el objetivo de probar la capacidad de generalización del backpropagation."
   ]
  },
  {
   "cell_type": "code",
   "execution_count": 8,
   "metadata": {},
   "outputs": [],
   "source": [
    "nn = NeuralNetwork()\n",
    "nn.set(SequentialLayer(4, 20, activation=activation_functions.sigmoid, \n",
    "                            activation_derivate=activation_functions.sigmoid_derivate))\n",
    "nn.set(SequentialLayer(20, 10, activation=activation_functions.sigmoid, \n",
    "                            activation_derivate=activation_functions.sigmoid_derivate))\n",
    "nn.set(SequentialLayer(10, 6, activation=activation_functions.sigmoid, \n",
    "                            activation_derivate=activation_functions.sigmoid_derivate))\n",
    "nn.set(SequentialLayer(6, 3, activation=activation_functions.softmax,\n",
    "                            activation_derivate=activation_functions.softmax_derivate))"
   ]
  },
  {
   "cell_type": "code",
   "execution_count": 9,
   "metadata": {},
   "outputs": [
    {
     "name": "stdout",
     "output_type": "stream",
     "text": [
      "accuracy before training:  0.3\n",
      "epoch   0 - Loss 1.40739, Accuracy 0.33333\n",
      "epoch  10 - Loss 0.28881, Accuracy 0.62500\n",
      "epoch  20 - Loss 0.09994, Accuracy 1.00000\n",
      "epoch  30 - Loss 0.06260, Accuracy 1.00000\n",
      "epoch  40 - Loss 0.06067, Accuracy 1.00000\n",
      "epoch  50 - Loss 0.06915, Accuracy 1.00000\n",
      "epoch  60 - Loss 0.07579, Accuracy 1.00000\n",
      "epoch  70 - Loss 0.07731, Accuracy 1.00000\n",
      "epoch  80 - Loss 0.07302, Accuracy 1.00000\n",
      "epoch  90 - Loss 0.06557, Accuracy 1.00000\n",
      "epoch 100 - Loss 0.05750, Accuracy 1.00000\n",
      "epoch 110 - Loss 0.05005, Accuracy 1.00000\n",
      "epoch 120 - Loss 0.04363, Accuracy 1.00000\n",
      "epoch 130 - Loss 0.03824, Accuracy 1.00000\n",
      "epoch 140 - Loss 0.03376, Accuracy 1.00000\n",
      "epoch 150 - Loss 0.03003, Accuracy 1.00000\n",
      "epoch 160 - Loss 0.02691, Accuracy 1.00000\n",
      "epoch 170 - Loss 0.02425, Accuracy 1.00000\n",
      "epoch 180 - Loss 0.02200, Accuracy 1.00000\n",
      "epoch 190 - Loss 0.02012, Accuracy 1.00000\n",
      "epoch 200 - Loss 0.01854, Accuracy 1.00000\n",
      "epoch 210 - Loss 0.01722, Accuracy 1.00000\n",
      "epoch 220 - Loss 0.01610, Accuracy 1.00000\n",
      "epoch 230 - Loss 0.01514, Accuracy 1.00000\n",
      "epoch 240 - Loss 0.01432, Accuracy 1.00000\n",
      "epoch 250 - Loss 0.01361, Accuracy 1.00000\n",
      "epoch 260 - Loss 0.01297, Accuracy 1.00000\n",
      "epoch 270 - Loss 0.01237, Accuracy 1.00000\n",
      "epoch 280 - Loss 0.01178, Accuracy 1.00000\n",
      "epoch 290 - Loss 0.01120, Accuracy 1.00000\n"
     ]
    }
   ],
   "source": [
    "print(\"accuracy before training: \", measure_functions.accuracy(y_test, [nn.feedfoward(x) for x in X_test]))\n",
    "(acc, loss) = optimizers.gradient_descent(nn, X_train, y_train, measure_functions.accuracy, epochs=300, learning_rate=0.01)"
   ]
  },
  {
   "cell_type": "code",
   "execution_count": 10,
   "metadata": {},
   "outputs": [
    {
     "data": {
      "image/png": "[encoded data removed]",
      "text/plain": [
       "<Figure size 500x500 with 2 Axes>"
      ]
     },
     "metadata": {},
     "output_type": "display_data"
    }
   ],
   "source": [
    "Y_pred = [np.argmax(nn.feedfoward(x)) for x in X_test]\n",
    "Y_test = [np.argmax(y) for y in y_test]\n",
    "\n",
    "cm = confusion_matrix(Y_test, Y_pred)\n",
    "plt.figure(figsize=(5, 5))\n",
    "sns.heatmap(cm, annot=True, fmt='d', cmap='Blues')\n",
    "plt.xlabel('Predicted')\n",
    "plt.ylabel('True')\n",
    "plt.title('Confusion Matrix')\n",
    "plt.show()"
   ]
  },
  {
   "cell_type": "markdown",
   "metadata": {},
   "source": [
    "# Red Neuronal Para Clasificar el Dataset de MNIST"
   ]
  },
  {
   "cell_type": "markdown",
   "metadata": {},
   "source": [
    "### Definimos la red"
   ]
  },
  {
   "cell_type": "markdown",
   "metadata": {},
   "source": [
    "Definimos ahora una red neuronal de 748 entradas, correspondiente con el tamaño de las imágenes del dataset MNIST una vez aplicado un flatten sobre ellas. La red dispondrá de una capa oculta de 10 neuronas, y una capa de salida de también 10 neuronas. La función de activación para la capa oculta será la ReLU, aunque para el paper se utilizó la función sigmoide, y para la de salida la función softmax."
   ]
  },
  {
   "cell_type": "code",
   "execution_count": 11,
   "metadata": {},
   "outputs": [],
   "source": [
    "nn = NeuralNetwork()\n",
    "nn.set(SequentialLayer(784, 10, activation=activation_functions.ReLU,\n",
    "                                activation_derivate=activation_functions.ReLU_derivate))\n",
    "nn.set(SequentialLayer(10, 10, activation=activation_functions.softmax, \n",
    "                                activation_derivate=activation_functions.softmax_derivate))"
   ]
  },
  {
   "cell_type": "markdown",
   "metadata": {},
   "source": [
    "### Dataset de MNIST"
   ]
  },
  {
   "cell_type": "markdown",
   "metadata": {},
   "source": [
    "Cargamos el dataset haciendo uso de la libería Keras, y dividimos el conjunto de datos en en train y test."
   ]
  },
  {
   "cell_type": "code",
   "execution_count": 12,
   "metadata": {},
   "outputs": [],
   "source": [
    "(x_train, y_train), (x_test, y_test) = mnist.load_data()"
   ]
  },
  {
   "cell_type": "code",
   "execution_count": 13,
   "metadata": {},
   "outputs": [
    {
     "name": "stdout",
     "output_type": "stream",
     "text": [
      "accuracy before training:  0.1077\n"
     ]
    }
   ],
   "source": [
    "x_train = x_train.reshape((-1, 28*28))\n",
    "x_train = x_train.astype('float64')/255\n",
    "\n",
    "x_test = x_test.reshape((-1, 28*28))\n",
    "x_test = x_test.astype('float64')/255\n",
    "\n",
    "y_train = enc.fit_transform(y_train.reshape(-1,1)).toarray()\n",
    "y_test = enc.fit_transform(y_test.reshape(-1,1)).toarray()\n",
    "\n",
    "print(\"accuracy before training: \", measure_functions.accuracy(y_test, [nn.feedfoward(x) for x in x_test]))"
   ]
  },
  {
   "cell_type": "markdown",
   "metadata": {},
   "source": [
    "### Entrenamiento de la red"
   ]
  },
  {
   "cell_type": "code",
   "execution_count": 14,
   "metadata": {},
   "outputs": [
    {
     "name": "stdout",
     "output_type": "stream",
     "text": [
      "accuracy before training:  0.1077\n",
      "epoch   0 - Loss 1.83296, Accuracy 0.41717\n",
      "epoch  10 - Loss 0.06380, Accuracy 0.87542\n",
      "epoch  20 - Loss 0.00303, Accuracy 0.90283\n",
      "epoch  30 - Loss 0.00040, Accuracy 0.91575\n",
      "epoch  40 - Loss 0.00011, Accuracy 0.92333\n",
      "epoch  50 - Loss 0.00007, Accuracy 0.92625\n",
      "epoch  60 - Loss 0.00004, Accuracy 0.92817\n",
      "epoch  70 - Loss 0.00003, Accuracy 0.92875\n"
     ]
    }
   ],
   "source": [
    "print(\"accuracy before training: \", measure_functions.accuracy(y_test, [nn.feedfoward(x) for x in x_test]))\n",
    "optimizers.Adam(nn, x_train, y_train, measure_functions.accuracy, epochs=80, learning_rate=0.001);"
   ]
  },
  {
   "cell_type": "code",
   "execution_count": 17,
   "metadata": {},
   "outputs": [
    {
     "name": "stdout",
     "output_type": "stream",
     "text": [
      "Accuracy after training (on test):  0.9283\n"
     ]
    }
   ],
   "source": [
    "Y_pred = [nn.feedfoward(x) for x in x_test]\n",
    "print(\"Accuracy after training (on test): \", measure_functions.accuracy(y_test, Y_pred))"
   ]
  },
  {
   "cell_type": "code",
   "execution_count": 18,
   "metadata": {},
   "outputs": [
    {
     "data": {
      "image/png": "[encoded data removed]",
      "text/plain": [
       "<Figure size 500x500 with 2 Axes>"
      ]
     },
     "metadata": {},
     "output_type": "display_data"
    }
   ],
   "source": [
    "Y_pred = [np.argmax(nn.feedfoward(x)) for x in x_test]\n",
    "Y_test = [np.argmax(y) for y in y_test]\n",
    "\n",
    "cm = confusion_matrix(Y_test, Y_pred)\n",
    "plt.figure(figsize=(5, 5))\n",
    "sns.heatmap(cm, annot=True, fmt='d', cmap='Blues')\n",
    "plt.xlabel('Predicted')\n",
    "plt.ylabel('True')\n",
    "plt.title('Confusion Matrix')\n",
    "plt.show()"
   ]
  },
  {
   "cell_type": "markdown",
   "metadata": {},
   "source": [
    "# Autoencoder"
   ]
  },
  {
   "cell_type": "code",
   "execution_count": null,
   "metadata": {},
   "outputs": [],
   "source": [
    "nn = NeuralNetwork()\n",
    "nn.set(SequentialLayer(784, 128, activation=activation_functions.ReLU,\n",
    "                                activation_derivate=activation_functions.ReLU_derivate))\n",
    "nn.set(SequentialLayer(128, 10, activation=activation_functions.ReLU,\n",
    "                                activation_derivate=activation_functions.ReLU_derivate))\n",
    "nn.set(SequentialLayer(10, 128, activation=activation_functions.ReLU,\n",
    "                                activation_derivate=activation_functions.ReLU_derivate))\n",
    "nn.set(SequentialLayer(128, 784, activation=activation_functions.sigmoid,\n",
    "                                activation_derivate=activation_functions.mse_derivate))\n",
    "\n",
    "(x_train, y_train), (x_test, y_test) = mnist.load_data()\n",
    "\n",
    "x_train = x_train.reshape((-1, 28*28))\n",
    "x_train = x_train.astype('float64')/255\n",
    "\n",
    "x_test = x_test.reshape((-1, 28*28))\n",
    "x_test = x_test.astype('float64')/255\n",
    "\n",
    "\n",
    "optimizers.Adam(nn, x_train, x_train, measure_functions.accuracy, epochs=80, learning_rate=0.0001);"
   ]
  },
  {
   "cell_type": "code",
   "execution_count": null,
   "metadata": {},
   "outputs": [],
   "source": [
    "# imprimir imagem original\n",
    "plt.imshow(x_test[1].reshape(28,28), cmap='gray')\n",
    "plt.show()"
   ]
  },
  {
   "cell_type": "code",
   "execution_count": null,
   "metadata": {},
   "outputs": [],
   "source": [
    "# imprimir imagem reconstruída\n",
    "plt.imshow(nn.feedfoward(x_test[1000]).reshape(28,28), cmap='gray')\n",
    "plt.show()"
   ]
  }
 ],
 "metadata": {
  "kernelspec": {
   "display_name": "aa1",
   "language": "python",
   "name": "python3"
  },
  "language_info": {
   "codemirror_mode": {
    "name": "ipython",
    "version": 3
   },
   "file_extension": ".py",
   "mimetype": "text/x-python",
   "name": "python",
   "nbconvert_exporter": "python",
   "pygments_lexer": "ipython3",
   "version": "3.9.16"
  }
 },
 "nbformat": 4,
 "nbformat_minor": 2
}
