{
 "cells": [
  {
   "cell_type": "code",
   "execution_count": 1,
   "metadata": {},
   "outputs": [],
   "source": [
    "import numpy as np\n",
    "import matplotlib.pyplot as plt"
   ]
  },
  {
   "cell_type": "code",
   "execution_count": 2,
   "metadata": {},
   "outputs": [],
   "source": [
    "def sigmoid(x):\n",
    "  return 1/(1+np.e**(-x))\n",
    "\n",
    "def sigmoid_derivate(x):\n",
    "  return sigmoid(x)*(1 - sigmoid(x))\n",
    "\n",
    "def ReLU(x):\n",
    "  return np.maximum(0, x)\n",
    "\n",
    "def ReLU_derivate(x):\n",
    "  return x > 0\n",
    "\n",
    "def softmax(A):\n",
    "  exp_A = np.e**(A - np.max(A))\n",
    "  return exp_A / np.sum(exp_A)"
   ]
  },
  {
   "cell_type": "markdown",
   "metadata": {},
   "source": [
    "# Modelo de Red Neuronal"
   ]
  },
  {
   "cell_type": "code",
   "execution_count": 3,
   "metadata": {},
   "outputs": [],
   "source": [
    "class Layer:\n",
    "    def __init__(self, input, output, activation=sigmoid, activation_derivate=sigmoid_derivate):\n",
    "        self.units = output\n",
    "        self.weights = np.random.randn(output, input)\n",
    "        self.bias = np.random.randn(output, 1)\n",
    "        self.activation = activation\n",
    "        self.activation_derivate = activation_derivate\n",
    "\n",
    "    def A(self, A_prev):\n",
    "        return self.activation(np.dot(self.weights, A_prev).reshape(self.units,1) + self.bias)\n",
    "\n",
    "    def z(self, A_prev):\n",
    "        return np.dot(self.weights, A_prev).reshape(self.units,1) + self.bias"
   ]
  },
  {
   "cell_type": "code",
   "execution_count": 4,
   "metadata": {},
   "outputs": [],
   "source": [
    "class NeuralNetwork:\n",
    "    def __init__(self):\n",
    "        self.layers = list()\n",
    "\n",
    "    def set(self, layer):\n",
    "        self.layers.append(layer)\n",
    "\n",
    "    def feedfoward(self, X, n=None):\n",
    "        n= len(self.layers) if not n else n\n",
    "\n",
    "        for layer in self.layers[:n]:\n",
    "            X = layer.A(X)\n",
    "\n",
    "        return X\n",
    "    \n",
    "    def backpropagation(self, X, y, lr=0.01):\n",
    "        A = self.feedfoward(X)\n",
    "        A = A.reshape(len(A),1)\n",
    "        y = y.reshape(len(y),1)\n",
    "\n",
    "        # Calculamos el error de la última capa\n",
    "        error = A - y\n",
    "\n",
    "        A_prev = self.feedfoward(X, -1)\n",
    "        A_prev = A_prev.reshape(len(A_prev),1)\n",
    "\n",
    "        # actualizamos los pesos de la última capa\n",
    "        dW = error.dot(A_prev.T)\n",
    "\n",
    "        self.layers[-1].weights -= dW\n",
    "        self.layers[-1].bias -= error\n",
    "\n",
    "        # Calculamos el error de la capa anterior\n",
    "        A_prev_2 = self.feedfoward(X, -2)\n",
    "        A_prev_2 = A_prev_2.reshape(len(A_prev_2),1)\n",
    "\n",
    "        derivate = self.layers[-2].activation_derivate(self.layers[-2].z(A_prev_2))\n",
    "        dz2 = derivate*self.layers[-1].weights.T.dot(error)\n",
    "        self.layers[-2].bias -= lr*dz2\n",
    "        \n",
    "        dz2 = dz2.dot(A_prev_2.T)\n",
    "        self.layers[-2].weights -= lr*dz2"
   ]
  },
  {
   "cell_type": "code",
   "execution_count": 5,
   "metadata": {},
   "outputs": [],
   "source": [
    "nn = NeuralNetwork()\n",
    "\n",
    "nn.set(Layer(2, 3, activation=ReLU, activation_derivate=ReLU_derivate))\n",
    "nn.set(Layer(3, 2))"
   ]
  },
  {
   "cell_type": "code",
   "execution_count": 6,
   "metadata": {},
   "outputs": [],
   "source": [
    "X = np.array([[0,0],[0,1],[1,0],[1,1]], dtype=np.float64)\n",
    "y = np.array([[1,0],[0,1],[0,1],[1,0]], dtype=np.float64)\n",
    "\n",
    "X = np.array([[0,0],[0,1],[1,0],[1,1]], dtype=np.float64)\n",
    "y = np.array([[1,0],[0,1],[0,1],[1,0]], dtype=np.float64)"
   ]
  },
  {
   "cell_type": "code",
   "execution_count": 7,
   "metadata": {},
   "outputs": [
    {
     "name": "stdout",
     "output_type": "stream",
     "text": [
      "Se ha obtenido una precisión del 100.0%\n"
     ]
    }
   ],
   "source": [
    "# train\n",
    "for i in range(10000):\n",
    "    for j in range(len(X)):\n",
    "        nn.backpropagation(X[j], y[j], lr=0.0001)\n",
    "\n",
    "# accuracy\n",
    "acc = 0\n",
    "for i in range(len(X)):\n",
    "    pred = nn.feedfoward(X[i])\n",
    "    if np.argmax(pred) == np.argmax(y[i]):\n",
    "        acc += 1\n",
    "\n",
    "print(f\"Se ha obtenido una precisión del {acc/len(X)*100}%\")"
   ]
  },
  {
   "cell_type": "code",
   "execution_count": 8,
   "metadata": {},
   "outputs": [
    {
     "data": {
      "image/png": "[encoded data removed]",
      "text/plain": [
       "<Figure size 640x480 with 1 Axes>"
      ]
     },
     "metadata": {},
     "output_type": "display_data"
    }
   ],
   "source": [
    "x = np.linspace(-1, 2, 100)\n",
    "y = np.linspace(-1, 2, 100)\n",
    "\n",
    "X, Y = np.meshgrid(x, y)\n",
    "\n",
    "Z = np.zeros((100,100))\n",
    "\n",
    "for i in range(100):\n",
    "    for j in range(100):\n",
    "        Z[i][j] = np.argmax(nn.feedfoward([X[i][j], Y[i][j]]))\n",
    "\n",
    "plt.contourf(X, Y, Z, cmap='coolwarm')\n",
    "plt.scatter(0,0, c='r')\n",
    "plt.scatter(1,1, c='r')\n",
    "plt.scatter(0,1, c='b')\n",
    "plt.scatter(1,0, c='b')\n",
    "\n",
    "plt.text(0.05, 0.05, \"(0,0)\", fontsize=15)\n",
    "plt.text(1.05, 1.05, \"(1,1)\", fontsize=15)\n",
    "plt.text(0.05, 1.05, \"(0,1)\", fontsize=15)\n",
    "plt.text(1.05, 0.05, \"(1,0)\", fontsize=15)\n",
    "\n",
    "plt.scatter([], [], c='r', label='Clase 1')\n",
    "plt.scatter([], [], c='b', label='Clase 2')\n",
    "plt.legend()\n",
    "\n",
    "plt.show()"
   ]
  },
  {
   "cell_type": "markdown",
   "metadata": {},
   "source": [
    "# Prueba con el conjunto IRIS"
   ]
  },
  {
   "cell_type": "code",
   "execution_count": 16,
   "metadata": {},
   "outputs": [
    {
     "name": "stdout",
     "output_type": "stream",
     "text": [
      "Se ha obtenido una precisión del 97.33333333333334%\n"
     ]
    }
   ],
   "source": [
    "from sklearn.datasets import load_iris\n",
    "iris = load_iris()\n",
    "\n",
    "X = iris.data\n",
    "y = iris.target\n",
    "\n",
    "from sklearn.preprocessing import OneHotEncoder\n",
    "enc = OneHotEncoder()\n",
    "y = enc.fit_transform(y.reshape(-1,1)).toarray()\n",
    "\n",
    "nn = NeuralNetwork()\n",
    "\n",
    "nn.set(Layer(4, 10, activation=sigmoid, activation_derivate=sigmoid_derivate))\n",
    "nn.set(Layer(10, 3, activation=softmax, activation_derivate=None))\n",
    "\n",
    "# train\n",
    "for i in range(1000):\n",
    "    for j in range(len(X)):\n",
    "        nn.backpropagation(X[j], y[j], lr=0.0001)\n",
    "\n",
    "# accuracy\n",
    "acc = 0\n",
    "for i in range(len(X)):\n",
    "    pred = nn.feedfoward(X[i])\n",
    "    if np.argmax(pred) == np.argmax(y[i]):\n",
    "        acc += 1\n",
    "\n",
    "print(f\"Se ha obtenido una precisión del {acc/len(X)*100}%\")"
   ]
  },
  {
   "cell_type": "markdown",
   "metadata": {},
   "source": [
    "# Prueba con el conjunto MNIST"
   ]
  },
  {
   "cell_type": "code",
   "execution_count": 10,
   "metadata": {},
   "outputs": [],
   "source": [
    "import tensorflow as tf\n",
    "from tensorflow.keras.datasets import mnist\n",
    "from matplotlib import pyplot as plt"
   ]
  },
  {
   "cell_type": "code",
   "execution_count": 11,
   "metadata": {},
   "outputs": [
    {
     "name": "stdout",
     "output_type": "stream",
     "text": [
      "Dataset hape: (60000, 28, 28)\n"
     ]
    }
   ],
   "source": [
    "(x_train, y_train), (x_test, y_test) = mnist.load_data()\n",
    "\n",
    "print(\"Dataset hape:\", x_train.shape)"
   ]
  },
  {
   "cell_type": "code",
   "execution_count": 12,
   "metadata": {},
   "outputs": [],
   "source": [
    "x_train = x_train.reshape((-1, 28*28))\n",
    "x_train = x_train.astype('float64')/255\n",
    "\n",
    "x_test = x_test.reshape((-1, 28*28))\n",
    "x_test = x_test.astype('float64')/255\n",
    "\n",
    "y_train = tf.keras.utils.to_categorical(y_train, 10)\n",
    "y_test = tf.keras.utils.to_categorical(y_test, 10)\n",
    "\n",
    "nn = NeuralNetwork()\n",
    "nn.set(Layer(784, 15, activation=sigmoid, activation_derivate=sigmoid_derivate))\n",
    "nn.set(Layer(15, 10, activation=softmax))"
   ]
  },
  {
   "cell_type": "code",
   "execution_count": 13,
   "metadata": {},
   "outputs": [
    {
     "name": "stdout",
     "output_type": "stream",
     "text": [
      "Epoch 0 finished\n",
      "Epoch 1 finished\n",
      "Epoch 2 finished\n",
      "Epoch 3 finished\n",
      "Epoch 4 finished\n",
      "Epoch 5 finished\n",
      "Epoch 6 finished\n",
      "Epoch 7 finished\n",
      "Epoch 8 finished\n",
      "Epoch 9 finished\n"
     ]
    },
    {
     "data": {
      "text/plain": [
       "0.9024"
      ]
     },
     "execution_count": 13,
     "metadata": {},
     "output_type": "execute_result"
    }
   ],
   "source": [
    "# train\n",
    "for i in range(10):\n",
    "    for j in range(len(x_train)):\n",
    "        nn.backpropagation(x_train[j], y_train[j], lr=0.01)\n",
    "\n",
    "    print(\"Epoch\", i, \"finished\")\n",
    "\n",
    "# accuracy\n",
    "acc = 0\n",
    "for i in range(len(x_test)):\n",
    "    pred = nn.feedfoward(x_test[i])\n",
    "    if np.argmax(pred) == np.argmax(y_test[i]):\n",
    "        acc += 1\n",
    "\n",
    "acc/len(x_test)"
   ]
  },
  {
   "cell_type": "code",
   "execution_count": 15,
   "metadata": {},
   "outputs": [
    {
     "data": {
      "image/png": "[encoded data removed]",
      "text/plain": [
       "<Figure size 640x480 with 2 Axes>"
      ]
     },
     "metadata": {},
     "output_type": "display_data"
    }
   ],
   "source": [
    "confusion_matrix = np.zeros((10,10))\n",
    "\n",
    "for i in range(len(x_test)):\n",
    "    pred = nn.feedfoward(x_test[i])\n",
    "    confusion_matrix[np.argmax(pred)][np.argmax(y_test[i])] += 1\n",
    "\n",
    "plt.imshow(confusion_matrix)\n",
    "plt.colorbar()\n",
    "plt.show()"
   ]
  }
 ],
 "metadata": {
  "kernelspec": {
   "display_name": "aa1",
   "language": "python",
   "name": "python3"
  },
  "language_info": {
   "codemirror_mode": {
    "name": "ipython",
    "version": 3
   },
   "file_extension": ".py",
   "mimetype": "text/x-python",
   "name": "python",
   "nbconvert_exporter": "python",
   "pygments_lexer": "ipython3",
   "version": "3.9.16"
  }
 },
 "nbformat": 4,
 "nbformat_minor": 2
}
